{
 "cells": [
  {
   "cell_type": "code",
   "execution_count": 1,
   "metadata": {},
   "outputs": [],
   "source": [
    "#output all identifiers including matched and unmached\n",
    "import yaml\n",
    "import requests\n",
    "import json\n",
    "\n",
    "with open(r'D:\\BL\\Renci\\icees-api-config\\Python-BL\\Identifiers_all.yaml', 'w') as output_file:\n",
    "    with open(\"identifiers.yml\") as f:\n",
    "\n",
    "            # open and read yam files\n",
    "            data = yaml.load(f, Loader=yaml.FullLoader)\n",
    "\n",
    "            tables_all = {}\n",
    "            tables_matched = {}\n",
    "            tables_unmatched = {}\n",
    "            matched_output_file = open(r'D:\\BL\\Renci\\icees-api-config\\Python-BL\\Identifiers_matched.yaml', 'w')\n",
    "            unmatched_output_file = open(r'D:\\BL\\Renci\\icees-api-config\\Python-BL\\Identifiers_unmatched.yaml', 'w')\n",
    "            \n",
    "            identifier_list = []\n",
    "            for item, doc in data.items():\n",
    "                for identifiers in doc.values():\n",
    "                    identifier_list += identifiers\n",
    "\n",
    "            identifier_set = set(identifier_list)\n",
    "            input_obj = {\n",
    "                \"curies\": list(identifier_set)\n",
    "            }\n",
    "            resp = requests.post(\"https://nodenormalization-sri.renci.org/1.1/get_normalized_nodes\", headers={\n",
    "                \"Content-Type\": \"application/json\",\n",
    "                \"Accept\": \"applicaton/json\"\n",
    "            }, json=input_obj)\n",
    "            obj = resp.json()\n",
    "\n",
    "            for item, doc in data.items():\n",
    "                tables_all.setdefault(item, {})\n",
    "                tables_matched.setdefault(item, {})\n",
    "                tables_unmatched.setdefault(item, {})\n",
    "                for variable in doc.keys():\n",
    "                    identifiers = doc[variable]\n",
    "                    \n",
    "                    variable_identifiers_matched = []\n",
    "                    variable_identifiers_unmatched = []\n",
    "                    for identifier in identifiers:\n",
    "                        if obj[identifier] is None:\n",
    "                            variable_identifiers_unmatched.append({identifier : None})\n",
    "                        else:\n",
    "                            variable_identifiers_matched.append({identifier : str(obj[identifier][\"id\"][\"identifier\"])})\n",
    "                    \n",
    "                    tables_matched[item][variable] = variable_identifiers_matched\n",
    "                    tables_unmatched[item][variable] = variable_identifiers_unmatched\n",
    "                    tables_all[item][variable] = variable_identifiers_matched + variable_identifiers_unmatched\n",
    "            yaml.dump(tables_matched, matched_output_file)\n",
    "            yaml.dump(tables_unmatched, unmatched_output_file)\n",
    "            yaml.dump(tables_all, output_file)\n"
   ]
  },
  {
   "cell_type": "code",
   "execution_count": null,
   "metadata": {},
   "outputs": [],
   "source": []
  }
 ],
 "metadata": {
  "kernelspec": {
   "display_name": "Python 3",
   "language": "python",
   "name": "python3"
  },
  "language_info": {
   "codemirror_mode": {
    "name": "ipython",
    "version": 3
   },
   "file_extension": ".py",
   "mimetype": "text/x-python",
   "name": "python",
   "nbconvert_exporter": "python",
   "pygments_lexer": "ipython3",
   "version": "3.7.6"
  }
 },
 "nbformat": 4,
 "nbformat_minor": 4
}
