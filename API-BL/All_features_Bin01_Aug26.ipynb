{
 "cells": [
  {
   "cell_type": "code",
   "execution_count": 1,
   "metadata": {
    "scrolled": false
   },
   "outputs": [],
   "source": [
    "# improve the way we're representing variables, specifically, boolean representations. \n",
    "# We would like those to be treated consistently as strings, \"0\" or \"1\". Right now, they are a mix of things,\n",
    "# e.g., integers 0 and 1, string \"FALSE\" or \"TRUE\", \"Yes\" or \"No\", and this makes it tricky for users to know \n",
    "# how to specify a query. (@xuh: I assume that the correction should be made in all_features.yaml?\n",
    "\n",
    "# output file with consistent \"0\" & \"1\"\n",
    "\n",
    "import yaml\n",
    "import requests\n",
    "import json\n",
    "\n",
    "\n",
    "#fdir: output file directory\n",
    "#fname: output file name\n",
    "\n",
    "def Binary_Variables_01(fdir,fname):\n",
    "   #featuresNAList_file = open(fdir + \"\\\\\" + fname + \".yaml\", 'w')\n",
    "    with open(fdir + \"\\\\\" + fname + \".yaml\", 'w') as output_file:\n",
    "    #with open(r'D:\\BL\\Renci\\icees-api-config\\Python-BL\\all_features_bin01.yaml', 'w') as output_file:\n",
    "        with open(\"all_features.yaml\") as f:\n",
    "\n",
    "            # open and read yam files\n",
    "            data = yaml.load(f, Loader=yaml.FullLoader)\n",
    "\n",
    "            table_bin = {}\n",
    "\n",
    "\n",
    "            for item, doc in data.items():\n",
    "                table_bin.setdefault(item, {})\n",
    "\n",
    "                for variable in doc.keys():\n",
    "                    table_bin[item][variable] = doc[variable]\n",
    "                    if 'enum' in doc[variable] and doc[variable]['enum'] is not None:\n",
    "                        enum_values = doc[variable]['enum']\n",
    "                        #print(enum_values)\n",
    "\n",
    "                        is_boolean_variable = True\n",
    "                        for enum in enum_values:\n",
    "                            if enum not in [0, 1, '0', '1', 'No', 'Yes', 'True', 'False']:\n",
    "                                is_boolean_variable = False\n",
    "\n",
    "                        if is_boolean_variable and len(enum_values) == 2:\n",
    "                            table_bin[item][variable]['enum'] = ['0', '1']\n",
    "                            table_bin[item][variable]['type'] = 'string'\n",
    "            yaml.dump(table_bin, output_file) \n",
    "            \n",
    "Binary_Variables_01(\"D:\\BL\\Renci\\icees-api-config\\Python-BL\", \"all_features_BinaryVariables01\")"
   ]
  },
  {
   "cell_type": "code",
   "execution_count": null,
   "metadata": {},
   "outputs": [],
   "source": []
  },
  {
   "cell_type": "code",
   "execution_count": null,
   "metadata": {},
   "outputs": [],
   "source": []
  }
 ],
 "metadata": {
  "kernelspec": {
   "display_name": "Python 3",
   "language": "python",
   "name": "python3"
  },
  "language_info": {
   "codemirror_mode": {
    "name": "ipython",
    "version": 3
   },
   "file_extension": ".py",
   "mimetype": "text/x-python",
   "name": "python",
   "nbconvert_exporter": "python",
   "pygments_lexer": "ipython3",
   "version": "3.7.6"
  }
 },
 "nbformat": 4,
 "nbformat_minor": 4
}
