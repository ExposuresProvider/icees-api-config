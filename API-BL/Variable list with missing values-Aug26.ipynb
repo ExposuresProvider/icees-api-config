{
 "cells": [
  {
   "cell_type": "code",
   "execution_count": 1,
   "metadata": {},
   "outputs": [],
   "source": [
    "# Task 2 is simply to make a list of all of the variables in the JAN2021 ICEES+ COVID instance at https://covid.icees.renci.org/jan2021/query\n",
    "# that are either missing (e.g.,in all_features.yaml and the corresponding Dhall files,\n",
    "# but not exposed via the API) or showing empty cells (e.g., counts of all zeroes).\n",
    "\n",
    "import yaml\n",
    "import requests\n",
    "import json\n",
    "\n",
    "#fdir: output file directory\n",
    "#fname: output file name\n",
    "\n",
    "def Variables_missingvalues(fdir,fname):\n",
    "    resp = requests.get(\"https://covid.icees.renci.org/jan2021/patient/cohort/COHORT:1/features\")\n",
    "    obj = resp.json()\n",
    "\n",
    "    features = obj[\"return value\"]\n",
    "\n",
    "    null_only_features = []\n",
    "\n",
    "    for feature_data in features:\n",
    "        feature_qualifiers = feature_data[\"feature\"][\"feature_qualifiers\"]\n",
    "        feature_matrix = feature_data[\"feature_matrix\"]\n",
    "        null_indices = []\n",
    "\n",
    "        for i in range(len(feature_qualifiers)):\n",
    "            operator = feature_qualifiers[i][\"operator\"]\n",
    "            value = feature_qualifiers[i][\"value\"]\n",
    "            if operator == \"=\" and value in [0, None]:\n",
    "                null_indices.append(i)\n",
    "\n",
    "        has_only_null_values = True\n",
    "        for index in range(len(feature_matrix)):\n",
    "            if index not in null_indices and feature_matrix[index][\"frequency\"] > 0:\n",
    "                has_only_null_values = False\n",
    "\n",
    "        if has_only_null_values:\n",
    "            null_only_features.append(feature_data[\"feature\"][\"feature_name\"])\n",
    "\n",
    "    featuresNAList_file = open(fdir + \"\\\\\" + fname + \".yaml\", 'w')\n",
    "    yaml.dump(null_only_features, featuresNAList_file)\n",
    "    featuresNAList_file.close()  \n",
    "    #print(null_only_features)\n",
    "    #print(\"\\n\".join(null_only_features))\n",
    "    \n",
    "Variables_missingvalues(\"D:\\BL\\Renci\\icees-api-config\\Python-BL\", \"Variables_with_MissingValue\")\n",
    "    "
   ]
  },
  {
   "cell_type": "code",
   "execution_count": null,
   "metadata": {},
   "outputs": [],
   "source": []
  },
  {
   "cell_type": "code",
   "execution_count": null,
   "metadata": {},
   "outputs": [],
   "source": []
  }
 ],
 "metadata": {
  "kernelspec": {
   "display_name": "Python 3",
   "language": "python",
   "name": "python3"
  },
  "language_info": {
   "codemirror_mode": {
    "name": "ipython",
    "version": 3
   },
   "file_extension": ".py",
   "mimetype": "text/x-python",
   "name": "python",
   "nbconvert_exporter": "python",
   "pygments_lexer": "ipython3",
   "version": "3.7.6"
  }
 },
 "nbformat": 4,
 "nbformat_minor": 4
}
