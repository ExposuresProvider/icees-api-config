{
 "cells": [
  {
   "cell_type": "code",
   "execution_count": 53,
   "metadata": {},
   "outputs": [],
   "source": [
    "#output all identifiers including matched and unmached\n",
    "import yaml\n",
    "import requests\n",
    "import json\n",
    "\n",
    "with open(r'D:\\BL\\Renci\\icees-api-config\\icees-api-config\\Python-BL\\Identifiers_all.yaml', 'w') as output_file:\n",
    "    with open(\"identifiers.yml\") as f:\n",
    "\n",
    "            # open and read yam files\n",
    "            data = yaml.load(f, Loader=yaml.FullLoader)\n",
    "\n",
    "            tables = {}\n",
    "            identifier_list = []\n",
    "            for item, doc in data.items():\n",
    "                for identifiers in doc.values():\n",
    "                    identifier_list += identifiers\n",
    "\n",
    "            identifier_set = set(identifier_list)\n",
    "            input_obj = {\n",
    "                \"curies\": list(identifier_set)\n",
    "            }\n",
    "            resp = requests.post(\"https://nodenormalization-sri.renci.org/1.1/get_normalized_nodes\", headers={\n",
    "                \"Content-Type\": \"application/json\",\n",
    "                \"Accept\": \"applicaton/json\"\n",
    "            }, json=input_obj)\n",
    "            obj = resp.json()\n",
    "\n",
    "            for item, doc in data.items():\n",
    "                tables.setdefault(item, {})\n",
    "                output_file.write(item + \"\\n\")\n",
    "                for variable in doc.keys():\n",
    "                    identifiers = doc[variable];\n",
    "                    tables[item].setdefault(variable, {})\n",
    "                    output_file.write(\"  \" + variable + \"\\n\")\n",
    "                    for identifier in identifiers:\n",
    "                        identifier_line = \"  - \\\"\" + identifier + \"\\\": \"\n",
    "                        if obj[identifier] is not None:\n",
    "                            identifier_line = identifier_line + str(obj[identifier][\"id\"][\"identifier\"]) + \"\\n\"\n",
    "                        else:\n",
    "                            identifier_line = identifier_line + \"Null\\n\"\n",
    "                            #identifier_line = identifier_line + str(False)\n",
    "                        output_file.write(identifier_line)\n",
    "                      #  data1=tables[item]\n",
    "                    #documents = yaml.dump(data1, file)\n"
   ]
  },
  {
   "cell_type": "code",
   "execution_count": 54,
   "metadata": {},
   "outputs": [],
   "source": [
    "#output matched and unmached identifiers seperately\n",
    "\n",
    "with open(\"identifiers.yml\") as f:\n",
    "\n",
    "        # open and read yam files\n",
    "        data = yaml.load(f, Loader=yaml.FullLoader)\n",
    "        matched_output_file = open(r'D:\\BL\\Renci\\icees-api-config\\icees-api-config\\Python-BL\\Identifiers_matched.yaml', 'w')\n",
    "        unmatched_output_file = open(r'D:\\BL\\Renci\\icees-api-config\\icees-api-config\\Python-BL\\Identifiers_unmatched.yaml', 'w')\n",
    "\n",
    "        tables = {}\n",
    "        identifier_list = []\n",
    "        for item, doc in data.items():\n",
    "            for identifiers in doc.values():\n",
    "                identifier_list += identifiers\n",
    "\n",
    "        identifier_set = set(identifier_list)\n",
    "        input_obj = {\n",
    "            \"curies\": list(identifier_set)\n",
    "        }\n",
    "        resp = requests.post(\"https://nodenormalization-sri.renci.org/1.1/get_normalized_nodes\", headers={\n",
    "            \"Content-Type\": \"application/json\",\n",
    "            \"Accept\": \"applicaton/json\"\n",
    "        }, json=input_obj)\n",
    "        obj = resp.json()\n",
    "\n",
    "        for item, doc in data.items():\n",
    "            tables.setdefault(item, {})\n",
    "            matched_output_file.write(item + \"\\n\")\n",
    "            unmatched_output_file.write(item + \"\\n\")\n",
    "            for variable in doc.keys():\n",
    "                identifiers = doc[variable];\n",
    "                tables[item].setdefault(variable, {})\n",
    "\n",
    "                matched_identifiers = \"\"\n",
    "                unmatched_identifiers = \"\"\n",
    "                for identifier in identifiers:\n",
    "                    if obj[identifier] is not None:\n",
    "                        if len(matched_identifiers) == 0:\n",
    "                            matched_identifiers = \"  \" + variable + \"\\n\"\n",
    "                        matched_identifiers = matched_identifiers + \"  - \\\"\" + identifier + \"\\\": \" + str(obj[identifier][\"id\"][\"identifier\"]) + \"\\n\"\n",
    "                    else:\n",
    "                        if len(unmatched_identifiers) == 0:\n",
    "                            unmatched_identifiers = \"  \" + variable + \"\\n\"\n",
    "                        unmatched_identifiers = unmatched_identifiers + \"  - \\\"\" + identifier + \"\\\": Null\\n\"\n",
    "                matched_output_file.write(matched_identifiers)\n",
    "                unmatched_output_file.write(unmatched_identifiers)\n",
    "        matched_output_file.close()\n",
    "        unmatched_output_file.close()"
   ]
  },
  {
   "cell_type": "markdown",
   "metadata": {},
   "source": [
    "Condtional Random Forest in Python Libary sklearn.  Permutation Importance"
   ]
  },
  {
   "cell_type": "markdown",
   "metadata": {},
   "source": [
    "Delete DataFrame row in Pandas if frequency=0 or frequency=NaN"
   ]
  },
  {
   "cell_type": "markdown",
   "metadata": {},
   "source": [
    "drop column \"TotalEDInpatientVisits_O\" and Check the data - head"
   ]
  },
  {
   "cell_type": "markdown",
   "metadata": {},
   "source": [
    "Check the data - columns"
   ]
  },
  {
   "cell_type": "markdown",
   "metadata": {},
   "source": [
    " Expanding the dataset after removing the rows with frequency 0."
   ]
  },
  {
   "cell_type": "code",
   "execution_count": null,
   "metadata": {},
   "outputs": [],
   "source": [
    "\n",
    "\n"
   ]
  },
  {
   "cell_type": "code",
   "execution_count": null,
   "metadata": {},
   "outputs": [],
   "source": []
  }
 ],
 "metadata": {
  "kernelspec": {
   "display_name": "Python 3",
   "language": "python",
   "name": "python3"
  },
  "language_info": {
   "codemirror_mode": {
    "name": "ipython",
    "version": 3
   },
   "file_extension": ".py",
   "mimetype": "text/x-python",
   "name": "python",
   "nbconvert_exporter": "python",
   "pygments_lexer": "ipython3",
   "version": "3.7.6"
  }
 },
 "nbformat": 4,
 "nbformat_minor": 4
}
